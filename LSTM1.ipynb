{
  "nbformat": 4,
  "nbformat_minor": 0,
  "metadata": {
    "colab": {
      "name": "LSTM1.ipynb",
      "provenance": [],
      "collapsed_sections": [],
      "authorship_tag": "ABX9TyN9/o6BrHtamHifdWFPhVYB",
      "include_colab_link": true
    },
    "kernelspec": {
      "name": "python3",
      "display_name": "Python 3"
    }
  },
  "cells": [
    {
      "cell_type": "markdown",
      "metadata": {
        "id": "view-in-github",
        "colab_type": "text"
      },
      "source": [
        "<a href=\"https://colab.research.google.com/github/EhsanEs-hub/ML-practice-folder/blob/master/LSTM1.ipynb\" target=\"_parent\"><img src=\"https://colab.research.google.com/assets/colab-badge.svg\" alt=\"Open In Colab\"/></a>"
      ]
    },
    {
      "cell_type": "code",
      "metadata": {
        "id": "CPJKpXExi9oW",
        "colab_type": "code",
        "colab": {}
      },
      "source": [
        "# Long Short Term Memory (LSTM)\n",
        "# to Predict closing stock price of a corporation (Apple Inc). Using the past 60 days stock price."
      ],
      "execution_count": 0,
      "outputs": []
    },
    {
      "cell_type": "code",
      "metadata": {
        "id": "aX3wvOzsHlek",
        "colab_type": "code",
        "outputId": "3987743d-6513-4945-87cb-7d3c9e477f7a",
        "colab": {
          "base_uri": "https://localhost:8080/",
          "height": 88
        }
      },
      "source": [
        "import math\n",
        "import numpy as np\n",
        "import pandas as pd\n",
        "import pandas_datareader as web\n",
        "from sklearn.preprocessing import MinMaxScaler\n",
        "from keras.layers.core import Dense, Activation, Dropout\n",
        "from keras.layers.recurrent import LSTM\n",
        "from keras.models import Sequential\n",
        "import matplotlib.pyplot as plt\n",
        "plt.style.use('fivethirtyeight')"
      ],
      "execution_count": 0,
      "outputs": [
        {
          "output_type": "stream",
          "text": [
            "/usr/local/lib/python3.6/dist-packages/pandas_datareader/compat/__init__.py:7: FutureWarning: pandas.util.testing is deprecated. Use the functions in the public API at pandas.testing instead.\n",
            "  from pandas.util.testing import assert_frame_equal\n",
            "Using TensorFlow backend.\n"
          ],
          "name": "stderr"
        }
      ]
    },
    {
      "cell_type": "code",
      "metadata": {
        "id": "gpT-7XlCJbzd",
        "colab_type": "code",
        "outputId": "f1e3e4e0-2f5f-4664-82cf-9b5bda66783d",
        "colab": {
          "base_uri": "https://localhost:8080/",
          "height": 450
        }
      },
      "source": [
        "df = web.DataReader('AAPL', data_source='yahoo', start='2012-01-01', end='2019-12-25')\n",
        "df"
      ],
      "execution_count": 0,
      "outputs": [
        {
          "output_type": "execute_result",
          "data": {
            "text/html": [
              "<div>\n",
              "<style scoped>\n",
              "    .dataframe tbody tr th:only-of-type {\n",
              "        vertical-align: middle;\n",
              "    }\n",
              "\n",
              "    .dataframe tbody tr th {\n",
              "        vertical-align: top;\n",
              "    }\n",
              "\n",
              "    .dataframe thead th {\n",
              "        text-align: right;\n",
              "    }\n",
              "</style>\n",
              "<table border=\"1\" class=\"dataframe\">\n",
              "  <thead>\n",
              "    <tr style=\"text-align: right;\">\n",
              "      <th></th>\n",
              "      <th>High</th>\n",
              "      <th>Low</th>\n",
              "      <th>Open</th>\n",
              "      <th>Close</th>\n",
              "      <th>Volume</th>\n",
              "      <th>Adj Close</th>\n",
              "    </tr>\n",
              "    <tr>\n",
              "      <th>Date</th>\n",
              "      <th></th>\n",
              "      <th></th>\n",
              "      <th></th>\n",
              "      <th></th>\n",
              "      <th></th>\n",
              "      <th></th>\n",
              "    </tr>\n",
              "  </thead>\n",
              "  <tbody>\n",
              "    <tr>\n",
              "      <th>2012-01-03</th>\n",
              "      <td>58.928570</td>\n",
              "      <td>58.428570</td>\n",
              "      <td>58.485714</td>\n",
              "      <td>58.747143</td>\n",
              "      <td>75555200.0</td>\n",
              "      <td>50.857235</td>\n",
              "    </tr>\n",
              "    <tr>\n",
              "      <th>2012-01-04</th>\n",
              "      <td>59.240002</td>\n",
              "      <td>58.468571</td>\n",
              "      <td>58.571430</td>\n",
              "      <td>59.062859</td>\n",
              "      <td>65005500.0</td>\n",
              "      <td>51.130558</td>\n",
              "    </tr>\n",
              "    <tr>\n",
              "      <th>2012-01-05</th>\n",
              "      <td>59.792858</td>\n",
              "      <td>58.952858</td>\n",
              "      <td>59.278572</td>\n",
              "      <td>59.718571</td>\n",
              "      <td>67817400.0</td>\n",
              "      <td>51.698215</td>\n",
              "    </tr>\n",
              "    <tr>\n",
              "      <th>2012-01-06</th>\n",
              "      <td>60.392857</td>\n",
              "      <td>59.888573</td>\n",
              "      <td>59.967144</td>\n",
              "      <td>60.342857</td>\n",
              "      <td>79573200.0</td>\n",
              "      <td>52.238651</td>\n",
              "    </tr>\n",
              "    <tr>\n",
              "      <th>2012-01-09</th>\n",
              "      <td>61.107143</td>\n",
              "      <td>60.192856</td>\n",
              "      <td>60.785713</td>\n",
              "      <td>60.247143</td>\n",
              "      <td>98506100.0</td>\n",
              "      <td>52.155792</td>\n",
              "    </tr>\n",
              "    <tr>\n",
              "      <th>...</th>\n",
              "      <td>...</td>\n",
              "      <td>...</td>\n",
              "      <td>...</td>\n",
              "      <td>...</td>\n",
              "      <td>...</td>\n",
              "      <td>...</td>\n",
              "    </tr>\n",
              "    <tr>\n",
              "      <th>2019-12-18</th>\n",
              "      <td>281.899994</td>\n",
              "      <td>279.119995</td>\n",
              "      <td>279.799988</td>\n",
              "      <td>279.739990</td>\n",
              "      <td>29007100.0</td>\n",
              "      <td>278.324249</td>\n",
              "    </tr>\n",
              "    <tr>\n",
              "      <th>2019-12-19</th>\n",
              "      <td>281.179993</td>\n",
              "      <td>278.950012</td>\n",
              "      <td>279.500000</td>\n",
              "      <td>280.019989</td>\n",
              "      <td>24592300.0</td>\n",
              "      <td>278.602814</td>\n",
              "    </tr>\n",
              "    <tr>\n",
              "      <th>2019-12-20</th>\n",
              "      <td>282.649994</td>\n",
              "      <td>278.559998</td>\n",
              "      <td>282.230011</td>\n",
              "      <td>279.440002</td>\n",
              "      <td>68994500.0</td>\n",
              "      <td>278.025757</td>\n",
              "    </tr>\n",
              "    <tr>\n",
              "      <th>2019-12-23</th>\n",
              "      <td>284.250000</td>\n",
              "      <td>280.369995</td>\n",
              "      <td>280.529999</td>\n",
              "      <td>284.000000</td>\n",
              "      <td>24643000.0</td>\n",
              "      <td>282.562683</td>\n",
              "    </tr>\n",
              "    <tr>\n",
              "      <th>2019-12-24</th>\n",
              "      <td>284.890015</td>\n",
              "      <td>282.920013</td>\n",
              "      <td>284.690002</td>\n",
              "      <td>284.269989</td>\n",
              "      <td>12119700.0</td>\n",
              "      <td>282.831299</td>\n",
              "    </tr>\n",
              "  </tbody>\n",
              "</table>\n",
              "<p>2008 rows × 6 columns</p>\n",
              "</div>"
            ],
            "text/plain": [
              "                  High         Low  ...      Volume   Adj Close\n",
              "Date                                ...                        \n",
              "2012-01-03   58.928570   58.428570  ...  75555200.0   50.857235\n",
              "2012-01-04   59.240002   58.468571  ...  65005500.0   51.130558\n",
              "2012-01-05   59.792858   58.952858  ...  67817400.0   51.698215\n",
              "2012-01-06   60.392857   59.888573  ...  79573200.0   52.238651\n",
              "2012-01-09   61.107143   60.192856  ...  98506100.0   52.155792\n",
              "...                ...         ...  ...         ...         ...\n",
              "2019-12-18  281.899994  279.119995  ...  29007100.0  278.324249\n",
              "2019-12-19  281.179993  278.950012  ...  24592300.0  278.602814\n",
              "2019-12-20  282.649994  278.559998  ...  68994500.0  278.025757\n",
              "2019-12-23  284.250000  280.369995  ...  24643000.0  282.562683\n",
              "2019-12-24  284.890015  282.920013  ...  12119700.0  282.831299\n",
              "\n",
              "[2008 rows x 6 columns]"
            ]
          },
          "metadata": {
            "tags": []
          },
          "execution_count": 4
        }
      ]
    },
    {
      "cell_type": "code",
      "metadata": {
        "id": "HSqPyPOmXbis",
        "colab_type": "code",
        "outputId": "f062f596-23a2-4f2a-a036-5973c89b6fa4",
        "colab": {
          "base_uri": "https://localhost:8080/",
          "height": 34
        }
      },
      "source": [
        "df.shape"
      ],
      "execution_count": 0,
      "outputs": [
        {
          "output_type": "execute_result",
          "data": {
            "text/plain": [
              "(2008, 6)"
            ]
          },
          "metadata": {
            "tags": []
          },
          "execution_count": 5
        }
      ]
    },
    {
      "cell_type": "code",
      "metadata": {
        "id": "_SkkpZUEXk3b",
        "colab_type": "code",
        "outputId": "b4bea9eb-acf1-46f1-9d8a-017bd5b5c82b",
        "colab": {
          "base_uri": "https://localhost:8080/",
          "height": 558
        }
      },
      "source": [
        "# Visualize close price history\n",
        "plt.figure(figsize=(16,8))\n",
        "plt.title('Close Price History')\n",
        "plt.plot(df['Close'])\n",
        "plt.xlabel('Date', fontsize=18)\n",
        "plt.ylabel('Close price USD($)', fontsize=18)\n",
        "plt.show()"
      ],
      "execution_count": 0,
      "outputs": [
        {
          "output_type": "display_data",
          "data": {
            "image/png": "[encoded data removed]",
            "text/plain": [
              "<Figure size 1152x576 with 1 Axes>"
            ]
          },
          "metadata": {
            "tags": []
          }
        }
      ]
    },
    {
      "cell_type": "code",
      "metadata": {
        "id": "65icD7K3bbvx",
        "colab_type": "code",
        "outputId": "abab48f0-9ca8-4310-f84c-b33b4859d633",
        "colab": {
          "base_uri": "https://localhost:8080/",
          "height": 34
        }
      },
      "source": [
        "# Create a new dataframe with only the 'close column\n",
        "data = df.filter(['Close'])\n",
        "# Convert DataFrame to np Array\n",
        "dataset = data.values\n",
        "# Get the number of rows to Train the model on\n",
        "training_data_len = math.ceil(len(dataset) * .8)\n",
        "\n",
        "training_data_len"
      ],
      "execution_count": 0,
      "outputs": [
        {
          "output_type": "execute_result",
          "data": {
            "text/plain": [
              "1607"
            ]
          },
          "metadata": {
            "tags": []
          },
          "execution_count": 7
        }
      ]
    },
    {
      "cell_type": "code",
      "metadata": {
        "id": "ouE_XHVzgOOy",
        "colab_type": "code",
        "outputId": "822d2691-0428-48a4-b1d3-71da7d35aef6",
        "colab": {
          "base_uri": "https://localhost:8080/",
          "height": 136
        }
      },
      "source": [
        "# Scale the data\n",
        "scaler = MinMaxScaler(feature_range=(0,1))\n",
        "scaled_data = scaler.fit_transform(dataset)\n",
        "scaled_data"
      ],
      "execution_count": 0,
      "outputs": [
        {
          "output_type": "execute_result",
          "data": {
            "text/plain": [
              "array([[0.01294267],\n",
              "       [0.01432448],\n",
              "       [0.01719437],\n",
              "       ...,\n",
              "       [0.97886035],\n",
              "       [0.99881833],\n",
              "       [1.        ]])"
            ]
          },
          "metadata": {
            "tags": []
          },
          "execution_count": 12
        }
      ]
    },
    {
      "cell_type": "code",
      "metadata": {
        "id": "fX_3DvEPh80H",
        "colab_type": "code",
        "outputId": "c371a838-f120-44df-86ac-5576d777d432",
        "colab": {
          "base_uri": "https://localhost:8080/",
          "height": 680
        }
      },
      "source": [
        "# Creating the scaled training data set\n",
        "train_data = scaled_data[0:training_data_len , :] # : means get all the columns\n",
        "# Split the data into x_train and y_train data sets\n",
        "x_train = []\n",
        "y_train = []\n",
        "\n",
        "for i in range(60,len(train_data)):\n",
        " x_train.append(train_data[i-60:i, 0])\n",
        " y_train.append(train_data[i, 0])\n",
        " if i<=61:\n",
        "   print(x_train)\n",
        "   print(y_train)\n",
        "   print()\n"
      ],
      "execution_count": 0,
      "outputs": [
        {
          "output_type": "stream",
          "text": [
            "[array([0.01294267, 0.01432448, 0.01719437, 0.01992672, 0.0195078 ,\n",
            "       0.02045192, 0.0200205 , 0.01929521, 0.01830733, 0.02136479,\n",
            "       0.02412215, 0.02327181, 0.0186137 , 0.02305922, 0.01868247,\n",
            "       0.03509528, 0.03382602, 0.03548295, 0.03906562, 0.04123523,\n",
            "       0.04105391, 0.0403849 , 0.04323604, 0.04591835, 0.04895709,\n",
            "       0.0538653 , 0.06417567, 0.06433198, 0.07007179, 0.07436099,\n",
            "       0.06698928, 0.06982793, 0.06977166, 0.07773111, 0.07659939,\n",
            "       0.07869396, 0.08245797, 0.08455258, 0.09058624, 0.09498176,\n",
            "       0.09625099, 0.09669493, 0.08917944, 0.08736619, 0.08763506,\n",
            "       0.09470037, 0.09668869, 0.10095912, 0.11102566, 0.12445604,\n",
            "       0.12194253, 0.12194877, 0.13165892, 0.13469762, 0.13253426,\n",
            "       0.13055849, 0.12850141, 0.13533537, 0.14002477, 0.14198806])]\n",
            "[0.13713610318970354]\n",
            "\n",
            "[array([0.01294267, 0.01432448, 0.01719437, 0.01992672, 0.0195078 ,\n",
            "       0.02045192, 0.0200205 , 0.01929521, 0.01830733, 0.02136479,\n",
            "       0.02412215, 0.02327181, 0.0186137 , 0.02305922, 0.01868247,\n",
            "       0.03509528, 0.03382602, 0.03548295, 0.03906562, 0.04123523,\n",
            "       0.04105391, 0.0403849 , 0.04323604, 0.04591835, 0.04895709,\n",
            "       0.0538653 , 0.06417567, 0.06433198, 0.07007179, 0.07436099,\n",
            "       0.06698928, 0.06982793, 0.06977166, 0.07773111, 0.07659939,\n",
            "       0.07869396, 0.08245797, 0.08455258, 0.09058624, 0.09498176,\n",
            "       0.09625099, 0.09669493, 0.08917944, 0.08736619, 0.08763506,\n",
            "       0.09470037, 0.09668869, 0.10095912, 0.11102566, 0.12445604,\n",
            "       0.12194253, 0.12194877, 0.13165892, 0.13469762, 0.13253426,\n",
            "       0.13055849, 0.12850141, 0.13533537, 0.14002477, 0.14198806]), array([0.01432448, 0.01719437, 0.01992672, 0.0195078 , 0.02045192,\n",
            "       0.0200205 , 0.01929521, 0.01830733, 0.02136479, 0.02412215,\n",
            "       0.02327181, 0.0186137 , 0.02305922, 0.01868247, 0.03509528,\n",
            "       0.03382602, 0.03548295, 0.03906562, 0.04123523, 0.04105391,\n",
            "       0.0403849 , 0.04323604, 0.04591835, 0.04895709, 0.0538653 ,\n",
            "       0.06417567, 0.06433198, 0.07007179, 0.07436099, 0.06698928,\n",
            "       0.06982793, 0.06977166, 0.07773111, 0.07659939, 0.07869396,\n",
            "       0.08245797, 0.08455258, 0.09058624, 0.09498176, 0.09625099,\n",
            "       0.09669493, 0.08917944, 0.08736619, 0.08763506, 0.09470037,\n",
            "       0.09668869, 0.10095912, 0.11102566, 0.12445604, 0.12194253,\n",
            "       0.12194877, 0.13165892, 0.13469762, 0.13253426, 0.13055849,\n",
            "       0.12850141, 0.13533537, 0.14002477, 0.14198806, 0.1371361 ])]\n",
            "[0.13713610318970354, 0.1306897853895418]\n",
            "\n"
          ],
          "name": "stdout"
        }
      ]
    },
    {
      "cell_type": "code",
      "metadata": {
        "id": "0hxNqH1EtlZ7",
        "colab_type": "code",
        "outputId": "3be76b58-5909-4858-aefb-d7a423b5b5b5",
        "colab": {
          "base_uri": "https://localhost:8080/",
          "height": 34
        }
      },
      "source": [
        "# Convert the x_train and y_train to np arrays\n",
        "x_train , y_train = np.array(x_train) , np.array(y_train)\n",
        "x_train.shape"
      ],
      "execution_count": 0,
      "outputs": [
        {
          "output_type": "execute_result",
          "data": {
            "text/plain": [
              "(1547, 60)"
            ]
          },
          "metadata": {
            "tags": []
          },
          "execution_count": 15
        }
      ]
    },
    {
      "cell_type": "code",
      "metadata": {
        "id": "46d2lr0ZwoLP",
        "colab_type": "code",
        "outputId": "ae9ec7ba-4ad9-4a47-fac0-4191a63273f0",
        "colab": {
          "base_uri": "https://localhost:8080/",
          "height": 34
        }
      },
      "source": [
        "# Reshape the data\n",
        "x_train = np.reshape(x_train, (x_train.shape[0], x_train.shape[1], 1))\n",
        "x_train.shape"
      ],
      "execution_count": 0,
      "outputs": [
        {
          "output_type": "execute_result",
          "data": {
            "text/plain": [
              "(1547, 60, 1)"
            ]
          },
          "metadata": {
            "tags": []
          },
          "execution_count": 16
        }
      ]
    },
    {
      "cell_type": "code",
      "metadata": {
        "id": "dw9My8nO0NhQ",
        "colab_type": "code",
        "colab": {}
      },
      "source": [
        "# Create the LSTM model\n",
        "model = Sequential()\n",
        "model.add(LSTM(50, return_sequences=True, input_shape=(x_train.shape[1], 1)))\n",
        "model.add(LSTM(50,return_sequences=False))\n",
        "model.add(Dense(25))\n",
        "model.add(Dense(1))\n"
      ],
      "execution_count": 0,
      "outputs": []
    },
    {
      "cell_type": "code",
      "metadata": {
        "id": "oHv3tk7rpvd7",
        "colab_type": "code",
        "colab": {}
      },
      "source": [
        "# Compile the model\n",
        "model.compile(optimizer='adam',loss='mean_squared_error')\n"
      ],
      "execution_count": 0,
      "outputs": []
    },
    {
      "cell_type": "code",
      "metadata": {
        "id": "-rOeVeys-xdu",
        "colab_type": "code",
        "outputId": "31371fdb-1061-4318-8f06-145d31d2b4f2",
        "colab": {
          "base_uri": "https://localhost:8080/",
          "height": 68
        }
      },
      "source": [
        "# train the model\n",
        "model.fit(x_train, y_train, batch_size=1, epochs=1)"
      ],
      "execution_count": 0,
      "outputs": [
        {
          "output_type": "stream",
          "text": [
            "Epoch 1/1\n",
            "1547/1547 [==============================] - 62s 40ms/step - loss: 7.1360e-04\n"
          ],
          "name": "stdout"
        },
        {
          "output_type": "execute_result",
          "data": {
            "text/plain": [
              "<keras.callbacks.callbacks.History at 0x7f78bc91b8d0>"
            ]
          },
          "metadata": {
            "tags": []
          },
          "execution_count": 30
        }
      ]
    },
    {
      "cell_type": "code",
      "metadata": {
        "id": "YS8TvEmW_rDd",
        "colab_type": "code",
        "colab": {}
      },
      "source": [
        "# Create the test data set\n",
        "# Create a new array containing scaled values fom index 1547 to 2007\n",
        "test_data = scaled_data[training_data_len-60: , :]\n",
        "# Create data sets x_test and y_test\n",
        "x_test = []\n",
        "y_test = dataset[training_data_len:, :]\n",
        "\n",
        "for i in range(60,len(test_data)):\n",
        "  x_test.append(test_data[i-60:i, 0])\n",
        "\n",
        "# Convert the x_test to np arrays\n",
        "x_test = np.array(x_test) \n",
        "\n",
        "# Reshape the data\n",
        "x_test = np.reshape(x_test, (x_test.shape[0], x_test.shape[1], 1))"
      ],
      "execution_count": 0,
      "outputs": []
    },
    {
      "cell_type": "code",
      "metadata": {
        "id": "q29TFU69emLP",
        "colab_type": "code",
        "colab": {}
      },
      "source": [
        "# plot the predictions\n",
        "predictions = model.predict(x_test)\n",
        "predictions = scaler.inverse_transform(predictions)"
      ],
      "execution_count": 0,
      "outputs": []
    },
    {
      "cell_type": "code",
      "metadata": {
        "id": "mZWOrblOhdvr",
        "colab_type": "code",
        "outputId": "43e889ca-c48f-424a-955e-87c4ccc5402e",
        "colab": {
          "base_uri": "https://localhost:8080/",
          "height": 34
        }
      },
      "source": [
        "# Get the root mean squared error (RMSE)\n",
        "rmse = np.sqrt(np.mean( predictions - y_test)**2)\n",
        "rmse"
      ],
      "execution_count": 0,
      "outputs": [
        {
          "output_type": "execute_result",
          "data": {
            "text/plain": [
              "1.9015480098581672"
            ]
          },
          "metadata": {
            "tags": []
          },
          "execution_count": 33
        }
      ]
    },
    {
      "cell_type": "code",
      "metadata": {
        "id": "7FgXmcnkTMe_",
        "colab_type": "code",
        "outputId": "04aa2963-2543-425a-ff32-72348921d0a9",
        "colab": {
          "base_uri": "https://localhost:8080/",
          "height": 660
        }
      },
      "source": [
        "# plot ihe data\n",
        "train = data[:training_data_len]\n",
        "valid = data[training_data_len:]\n",
        "valid['predictions'] = predictions\n",
        "# Visualize close price history\n",
        "plt.figure(figsize=(16,8))\n",
        "plt.title('Model')\n",
        "plt.xlabel('Date', fontsize=18)\n",
        "plt.ylabel('Close price USD($)', fontsize=18)\n",
        "plt.plot(train['Close'])\n",
        "plt.plot(valid[['Close','predictions']])\n",
        "plt.legend(['Train','Val','predictions'],loc='lower right')\n",
        "plt.show()"
      ],
      "execution_count": 0,
      "outputs": [
        {
          "output_type": "stream",
          "text": [
            "/usr/local/lib/python3.6/dist-packages/ipykernel_launcher.py:4: SettingWithCopyWarning: \n",
            "A value is trying to be set on a copy of a slice from a DataFrame.\n",
            "Try using .loc[row_indexer,col_indexer] = value instead\n",
            "\n",
            "See the caveats in the documentation: https://pandas.pydata.org/pandas-docs/stable/user_guide/indexing.html#returning-a-view-versus-a-copy\n",
            "  after removing the cwd from sys.path.\n"
          ],
          "name": "stderr"
        },
        {
          "output_type": "display_data",
          "data": {
            "image/png": "[encoded data removed]",
            "text/plain": [
              "<Figure size 1152x576 with 1 Axes>"
            ]
          },
          "metadata": {
            "tags": []
          }
        }
      ]
    },
    {
      "cell_type": "code",
      "metadata": {
        "id": "TxTVcsP4LmmY",
        "colab_type": "code",
        "outputId": "b3e69eb2-fab1-4aaf-e668-ae5214ae7ac7",
        "colab": {
          "base_uri": "https://localhost:8080/",
          "height": 450
        }
      },
      "source": [
        "# show the valid and predicted price\n",
        "valid"
      ],
      "execution_count": 0,
      "outputs": [
        {
          "output_type": "execute_result",
          "data": {
            "text/html": [
              "<div>\n",
              "<style scoped>\n",
              "    .dataframe tbody tr th:only-of-type {\n",
              "        vertical-align: middle;\n",
              "    }\n",
              "\n",
              "    .dataframe tbody tr th {\n",
              "        vertical-align: top;\n",
              "    }\n",
              "\n",
              "    .dataframe thead th {\n",
              "        text-align: right;\n",
              "    }\n",
              "</style>\n",
              "<table border=\"1\" class=\"dataframe\">\n",
              "  <thead>\n",
              "    <tr style=\"text-align: right;\">\n",
              "      <th></th>\n",
              "      <th>Close</th>\n",
              "      <th>predictions</th>\n",
              "    </tr>\n",
              "    <tr>\n",
              "      <th>Date</th>\n",
              "      <th></th>\n",
              "      <th></th>\n",
              "    </tr>\n",
              "  </thead>\n",
              "  <tbody>\n",
              "    <tr>\n",
              "      <th>2018-05-23</th>\n",
              "      <td>188.360001</td>\n",
              "      <td>189.752609</td>\n",
              "    </tr>\n",
              "    <tr>\n",
              "      <th>2018-05-24</th>\n",
              "      <td>188.149994</td>\n",
              "      <td>189.897629</td>\n",
              "    </tr>\n",
              "    <tr>\n",
              "      <th>2018-05-25</th>\n",
              "      <td>188.580002</td>\n",
              "      <td>190.079346</td>\n",
              "    </tr>\n",
              "    <tr>\n",
              "      <th>2018-05-29</th>\n",
              "      <td>187.899994</td>\n",
              "      <td>190.323868</td>\n",
              "    </tr>\n",
              "    <tr>\n",
              "      <th>2018-05-30</th>\n",
              "      <td>187.500000</td>\n",
              "      <td>190.489090</td>\n",
              "    </tr>\n",
              "    <tr>\n",
              "      <th>...</th>\n",
              "      <td>...</td>\n",
              "      <td>...</td>\n",
              "    </tr>\n",
              "    <tr>\n",
              "      <th>2019-12-18</th>\n",
              "      <td>279.739990</td>\n",
              "      <td>274.000488</td>\n",
              "    </tr>\n",
              "    <tr>\n",
              "      <th>2019-12-19</th>\n",
              "      <td>280.019989</td>\n",
              "      <td>275.570129</td>\n",
              "    </tr>\n",
              "    <tr>\n",
              "      <th>2019-12-20</th>\n",
              "      <td>279.440002</td>\n",
              "      <td>276.798981</td>\n",
              "    </tr>\n",
              "    <tr>\n",
              "      <th>2019-12-23</th>\n",
              "      <td>284.000000</td>\n",
              "      <td>277.613129</td>\n",
              "    </tr>\n",
              "    <tr>\n",
              "      <th>2019-12-24</th>\n",
              "      <td>284.269989</td>\n",
              "      <td>278.734253</td>\n",
              "    </tr>\n",
              "  </tbody>\n",
              "</table>\n",
              "<p>401 rows × 2 columns</p>\n",
              "</div>"
            ],
            "text/plain": [
              "                 Close  predictions\n",
              "Date                               \n",
              "2018-05-23  188.360001   189.752609\n",
              "2018-05-24  188.149994   189.897629\n",
              "2018-05-25  188.580002   190.079346\n",
              "2018-05-29  187.899994   190.323868\n",
              "2018-05-30  187.500000   190.489090\n",
              "...                ...          ...\n",
              "2019-12-18  279.739990   274.000488\n",
              "2019-12-19  280.019989   275.570129\n",
              "2019-12-20  279.440002   276.798981\n",
              "2019-12-23  284.000000   277.613129\n",
              "2019-12-24  284.269989   278.734253\n",
              "\n",
              "[401 rows x 2 columns]"
            ]
          },
          "metadata": {
            "tags": []
          },
          "execution_count": 35
        }
      ]
    },
    {
      "cell_type": "code",
      "metadata": {
        "id": "WyAGsqs7NRqY",
        "colab_type": "code",
        "colab": {
          "base_uri": "https://localhost:8080/",
          "height": 34
        },
        "outputId": "215cfd3a-2621-4919-d534-b8d233f190aa"
      },
      "source": [
        "# Get the quote\n",
        "apple_quote = web.DataReader('AAPL', data_source='yahoo', start='2012-01-01', end='2019-12-24')\n",
        "# Create a new dataframe with only the 'close column\n",
        "new_df = apple_quote.filter(['Close'])\n",
        "# Get the last 60 days closing value & Convert DataFrame to np Array\n",
        "last_60_days = new_df[-60:].values\n",
        "# Get the number of rows to Train the model on\n",
        "# training_data_len = math.ceil(len(dataset) * .8)\n",
        "# Scale the data\n",
        "# scaler = MinMaxScaler(feature_range=(0,1))\n",
        "# scaled_data = scaler.fit_transform(dataset)\n",
        "last_60_days_scaled_data = scaler.transform(last_60_days)\n",
        "# Create empiy list\n",
        "X_test = []\n",
        "X_test.append(last_60_days_scaled_data)\n",
        "# Convert the X_test to np arrays\n",
        "X_test = np.array(X_test)\n",
        "# Reshape the data\n",
        "X_test = np.reshape(X_test, (X_test.shape[0], X_test.shape[1], 1))\n",
        "# plot the predictions\n",
        "pred_price = model.predict(X_test)\n",
        "pred_price = scaler.inverse_transform(pred_price)\n",
        "print(pred_price)"
      ],
      "execution_count": 38,
      "outputs": [
        {
          "output_type": "stream",
          "text": [
            "[[279.81927]]\n"
          ],
          "name": "stdout"
        }
      ]
    },
    {
      "cell_type": "code",
      "metadata": {
        "id": "CBmm64uxXcFt",
        "colab_type": "code",
        "colab": {
          "base_uri": "https://localhost:8080/",
          "height": 238
        },
        "outputId": "19a126f3-f6e7-4960-b75c-01309ee1dba1"
      },
      "source": [
        "apple_quote2 = web.DataReader('AAPL', data_source='yahoo', start='2012-01-01', end='2019-12-26')\n",
        "print(apple_quote2['Close'])"
      ],
      "execution_count": 37,
      "outputs": [
        {
          "output_type": "stream",
          "text": [
            "Date\n",
            "2012-01-03     58.747143\n",
            "2012-01-04     59.062859\n",
            "2012-01-05     59.718571\n",
            "2012-01-06     60.342857\n",
            "2012-01-09     60.247143\n",
            "                 ...    \n",
            "2019-12-19    280.019989\n",
            "2019-12-20    279.440002\n",
            "2019-12-23    284.000000\n",
            "2019-12-24    284.269989\n",
            "2019-12-26    289.910004\n",
            "Name: Close, Length: 2009, dtype: float64\n"
          ],
          "name": "stdout"
        }
      ]
    }
  ]
}